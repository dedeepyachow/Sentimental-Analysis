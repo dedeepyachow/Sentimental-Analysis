{
  "nbformat": 4,
  "nbformat_minor": 0,
  "metadata": {
    "colab": {
      "name": "Copy of MajorProject.ipynb",
      "provenance": [],
      "collapsed_sections": []
    },
    "kernelspec": {
      "name": "python3",
      "display_name": "Python 3"
    },
    "language_info": {
      "name": "python"
    }
  },
  "cells": [
    {
      "cell_type": "markdown",
      "source": [
        "**Importing Libraries**"
      ],
      "metadata": {
        "id": "Zhw3JWeGP79w"
      }
    },
    {
      "cell_type": "code",
      "execution_count": null,
      "metadata": {
        "id": "p0I6Vx2XPnIQ"
      },
      "outputs": [],
      "source": [
        "import numpy as np\n",
        "import pandas as pd\n",
        "import matplotlib.pyplot as plt"
      ]
    },
    {
      "cell_type": "markdown",
      "source": [
        "**Creating DataFrame**"
      ],
      "metadata": {
        "id": "WWdYJ3FhQYJb"
      }
    },
    {
      "cell_type": "code",
      "source": [
        "df = pd.read_csv('/content/Restaurant_Reviews.tsv', sep = '\\t')"
      ],
      "metadata": {
        "id": "n5FjqdWxQNn9"
      },
      "execution_count": null,
      "outputs": []
    },
    {
      "cell_type": "code",
      "source": [
        "df.head()"
      ],
      "metadata": {
        "colab": {
          "base_uri": "https://localhost:8080/",
          "height": 206
        },
        "id": "ACwwFBjLQnCS",
        "outputId": "47d18de9-2a1f-4152-8f95-f22558060923"
      },
      "execution_count": null,
      "outputs": [
        {
          "output_type": "execute_result",
          "data": {
            "text/plain": [
              "                                              Review  Liked\n",
              "0                           Wow... Loved this place.      1\n",
              "1                                 Crust is not good.      0\n",
              "2          Not tasty and the texture was just nasty.      0\n",
              "3  Stopped by during the late May bank holiday of...      1\n",
              "4  The selection on the menu was great and so wer...      1"
            ],
            "text/html": [
              "\n",
              "  <div id=\"df-f4f6fe9d-8b90-4b95-9f43-1091aa68ad1c\">\n",
              "    <div class=\"colab-df-container\">\n",
              "      <div>\n",
              "<style scoped>\n",
              "    .dataframe tbody tr th:only-of-type {\n",
              "        vertical-align: middle;\n",
              "    }\n",
              "\n",
              "    .dataframe tbody tr th {\n",
              "        vertical-align: top;\n",
              "    }\n",
              "\n",
              "    .dataframe thead th {\n",
              "        text-align: right;\n",
              "    }\n",
              "</style>\n",
              "<table border=\"1\" class=\"dataframe\">\n",
              "  <thead>\n",
              "    <tr style=\"text-align: right;\">\n",
              "      <th></th>\n",
              "      <th>Review</th>\n",
              "      <th>Liked</th>\n",
              "    </tr>\n",
              "  </thead>\n",
              "  <tbody>\n",
              "    <tr>\n",
              "      <th>0</th>\n",
              "      <td>Wow... Loved this place.</td>\n",
              "      <td>1</td>\n",
              "    </tr>\n",
              "    <tr>\n",
              "      <th>1</th>\n",
              "      <td>Crust is not good.</td>\n",
              "      <td>0</td>\n",
              "    </tr>\n",
              "    <tr>\n",
              "      <th>2</th>\n",
              "      <td>Not tasty and the texture was just nasty.</td>\n",
              "      <td>0</td>\n",
              "    </tr>\n",
              "    <tr>\n",
              "      <th>3</th>\n",
              "      <td>Stopped by during the late May bank holiday of...</td>\n",
              "      <td>1</td>\n",
              "    </tr>\n",
              "    <tr>\n",
              "      <th>4</th>\n",
              "      <td>The selection on the menu was great and so wer...</td>\n",
              "      <td>1</td>\n",
              "    </tr>\n",
              "  </tbody>\n",
              "</table>\n",
              "</div>\n",
              "      <button class=\"colab-df-convert\" onclick=\"convertToInteractive('df-f4f6fe9d-8b90-4b95-9f43-1091aa68ad1c')\"\n",
              "              title=\"Convert this dataframe to an interactive table.\"\n",
              "              style=\"display:none;\">\n",
              "        \n",
              "  <svg xmlns=\"http://www.w3.org/2000/svg\" height=\"24px\"viewBox=\"0 0 24 24\"\n",
              "       width=\"24px\">\n",
              "    <path d=\"M0 0h24v24H0V0z\" fill=\"none\"/>\n",
              "    <path d=\"M18.56 5.44l.94 2.06.94-2.06 2.06-.94-2.06-.94-.94-2.06-.94 2.06-2.06.94zm-11 1L8.5 8.5l.94-2.06 2.06-.94-2.06-.94L8.5 2.5l-.94 2.06-2.06.94zm10 10l.94 2.06.94-2.06 2.06-.94-2.06-.94-.94-2.06-.94 2.06-2.06.94z\"/><path d=\"M17.41 7.96l-1.37-1.37c-.4-.4-.92-.59-1.43-.59-.52 0-1.04.2-1.43.59L10.3 9.45l-7.72 7.72c-.78.78-.78 2.05 0 2.83L4 21.41c.39.39.9.59 1.41.59.51 0 1.02-.2 1.41-.59l7.78-7.78 2.81-2.81c.8-.78.8-2.07 0-2.86zM5.41 20L4 18.59l7.72-7.72 1.47 1.35L5.41 20z\"/>\n",
              "  </svg>\n",
              "      </button>\n",
              "      \n",
              "  <style>\n",
              "    .colab-df-container {\n",
              "      display:flex;\n",
              "      flex-wrap:wrap;\n",
              "      gap: 12px;\n",
              "    }\n",
              "\n",
              "    .colab-df-convert {\n",
              "      background-color: #E8F0FE;\n",
              "      border: none;\n",
              "      border-radius: 50%;\n",
              "      cursor: pointer;\n",
              "      display: none;\n",
              "      fill: #1967D2;\n",
              "      height: 32px;\n",
              "      padding: 0 0 0 0;\n",
              "      width: 32px;\n",
              "    }\n",
              "\n",
              "    .colab-df-convert:hover {\n",
              "      background-color: #E2EBFA;\n",
              "      box-shadow: 0px 1px 2px rgba(60, 64, 67, 0.3), 0px 1px 3px 1px rgba(60, 64, 67, 0.15);\n",
              "      fill: #174EA6;\n",
              "    }\n",
              "\n",
              "    [theme=dark] .colab-df-convert {\n",
              "      background-color: #3B4455;\n",
              "      fill: #D2E3FC;\n",
              "    }\n",
              "\n",
              "    [theme=dark] .colab-df-convert:hover {\n",
              "      background-color: #434B5C;\n",
              "      box-shadow: 0px 1px 3px 1px rgba(0, 0, 0, 0.15);\n",
              "      filter: drop-shadow(0px 1px 2px rgba(0, 0, 0, 0.3));\n",
              "      fill: #FFFFFF;\n",
              "    }\n",
              "  </style>\n",
              "\n",
              "      <script>\n",
              "        const buttonEl =\n",
              "          document.querySelector('#df-f4f6fe9d-8b90-4b95-9f43-1091aa68ad1c button.colab-df-convert');\n",
              "        buttonEl.style.display =\n",
              "          google.colab.kernel.accessAllowed ? 'block' : 'none';\n",
              "\n",
              "        async function convertToInteractive(key) {\n",
              "          const element = document.querySelector('#df-f4f6fe9d-8b90-4b95-9f43-1091aa68ad1c');\n",
              "          const dataTable =\n",
              "            await google.colab.kernel.invokeFunction('convertToInteractive',\n",
              "                                                     [key], {});\n",
              "          if (!dataTable) return;\n",
              "\n",
              "          const docLinkHtml = 'Like what you see? Visit the ' +\n",
              "            '<a target=\"_blank\" href=https://colab.research.google.com/notebooks/data_table.ipynb>data table notebook</a>'\n",
              "            + ' to learn more about interactive tables.';\n",
              "          element.innerHTML = '';\n",
              "          dataTable['output_type'] = 'display_data';\n",
              "          await google.colab.output.renderOutput(dataTable, element);\n",
              "          const docLink = document.createElement('div');\n",
              "          docLink.innerHTML = docLinkHtml;\n",
              "          element.appendChild(docLink);\n",
              "        }\n",
              "      </script>\n",
              "    </div>\n",
              "  </div>\n",
              "  "
            ]
          },
          "metadata": {},
          "execution_count": 4
        }
      ]
    },
    {
      "cell_type": "code",
      "source": [
        "df.info()"
      ],
      "metadata": {
        "colab": {
          "base_uri": "https://localhost:8080/"
        },
        "id": "2ryo5F0bQ9Bs",
        "outputId": "d23ff14a-4bbd-4358-f461-95cec8bcecf8"
      },
      "execution_count": null,
      "outputs": [
        {
          "output_type": "stream",
          "name": "stdout",
          "text": [
            "<class 'pandas.core.frame.DataFrame'>\n",
            "RangeIndex: 1000 entries, 0 to 999\n",
            "Data columns (total 2 columns):\n",
            " #   Column  Non-Null Count  Dtype \n",
            "---  ------  --------------  ----- \n",
            " 0   Review  1000 non-null   object\n",
            " 1   Liked   1000 non-null   int64 \n",
            "dtypes: int64(1), object(1)\n",
            "memory usage: 15.8+ KB\n"
          ]
        }
      ]
    },
    {
      "cell_type": "code",
      "source": [
        "df['Liked'].value_counts()"
      ],
      "metadata": {
        "colab": {
          "base_uri": "https://localhost:8080/"
        },
        "id": "zL9bt06xSVqv",
        "outputId": "e1f47c39-4ace-4e1e-f863-7fc81e35cfda"
      },
      "execution_count": null,
      "outputs": [
        {
          "output_type": "execute_result",
          "data": {
            "text/plain": [
              "1    500\n",
              "0    500\n",
              "Name: Liked, dtype: int64"
            ]
          },
          "metadata": {},
          "execution_count": 6
        }
      ]
    },
    {
      "cell_type": "code",
      "source": [
        "labels = 'Positive Reviews', 'Negative Reviews'\n",
        "sizes = [50,50]\n",
        "fig1 ,ax1 = plt.subplots()\n",
        "ax1.pie(sizes,labels = labels,autopct='%1.1f%%', startangle = 90)\n",
        "ax1.axis('equal')\n",
        "plt.show() "
      ],
      "metadata": {
        "colab": {
          "base_uri": "https://localhost:8080/",
          "height": 248
        },
        "id": "Zp-AQumMVJK_",
        "outputId": "0522ae83-f840-4a25-ce30-15e8a1fea7dc"
      },
      "execution_count": null,
      "outputs": [
        {
          "output_type": "display_data",
          "data": {
            "text/plain": [
              "<Figure size 432x288 with 1 Axes>"
            ],
            "image/png": "[encoded data removed]"
          },
          "metadata": {}
        }
      ]
    },
    {
      "cell_type": "code",
      "source": [
        "x = df['Review'].values\n",
        "y = df['Liked'].values"
      ],
      "metadata": {
        "id": "6BgamAmScpjg"
      },
      "execution_count": null,
      "outputs": []
    },
    {
      "cell_type": "code",
      "source": [
        "x.shape"
      ],
      "metadata": {
        "colab": {
          "base_uri": "https://localhost:8080/"
        },
        "id": "8ePp0edeQXuV",
        "outputId": "615d706e-f9ad-4e2c-8770-bb2b2aced033"
      },
      "execution_count": null,
      "outputs": [
        {
          "output_type": "execute_result",
          "data": {
            "text/plain": [
              "(1000,)"
            ]
          },
          "metadata": {},
          "execution_count": 9
        }
      ]
    },
    {
      "cell_type": "code",
      "source": [
        "x[0]"
      ],
      "metadata": {
        "colab": {
          "base_uri": "https://localhost:8080/",
          "height": 36
        },
        "id": "le_SIs1SQhou",
        "outputId": "af0e01dc-c37a-4fba-d968-a651fb320f63"
      },
      "execution_count": null,
      "outputs": [
        {
          "output_type": "execute_result",
          "data": {
            "text/plain": [
              "'Wow... Loved this place.'"
            ],
            "application/vnd.google.colaboratory.intrinsic+json": {
              "type": "string"
            }
          },
          "metadata": {},
          "execution_count": 10
        }
      ]
    },
    {
      "cell_type": "markdown",
      "source": [
        "# Cleaning the Words"
      ],
      "metadata": {
        "id": "AKdk0O7zUDKH"
      }
    },
    {
      "cell_type": "code",
      "source": [
        "import re\n",
        "import nltk\n",
        "nltk.download('stopwords')\n",
        "from nltk.corpus import stopwords\n",
        "from nltk.stem.porter import PorterStemmer\n",
        "corpus = []\n",
        "for i in range(0, 1000):\n",
        "  review = re.sub('[^a-zA-Z]', ' ', x[i])\n",
        "  review = review.lower()\n",
        "  review = review.split()\n",
        "  ps = PorterStemmer()\n",
        "  all_stopwords = stopwords.words('english')\n",
        "  all_stopwords.remove('not')\n",
        "  review = [ps.stem(word) for word in review if not word in set(all_stopwords)]\n",
        "  review = ' '.join(review)\n",
        "  corpus.append(review)"
      ],
      "metadata": {
        "colab": {
          "base_uri": "https://localhost:8080/"
        },
        "id": "T4nRWklLQ0dR",
        "outputId": "25ae8095-85df-4e10-a90e-d6305d8b1a26"
      },
      "execution_count": null,
      "outputs": [
        {
          "output_type": "stream",
          "name": "stderr",
          "text": [
            "[nltk_data] Downloading package stopwords to /root/nltk_data...\n",
            "[nltk_data]   Unzipping corpora/stopwords.zip.\n"
          ]
        }
      ]
    },
    {
      "cell_type": "code",
      "source": [
        "corpus[2]"
      ],
      "metadata": {
        "colab": {
          "base_uri": "https://localhost:8080/",
          "height": 36
        },
        "id": "0qJ7Ige6RymJ",
        "outputId": "73fc5f36-e6c6-405b-c451-87e6f5d32c91"
      },
      "execution_count": null,
      "outputs": [
        {
          "output_type": "execute_result",
          "data": {
            "text/plain": [
              "'not tasti textur nasti'"
            ],
            "application/vnd.google.colaboratory.intrinsic+json": {
              "type": "string"
            }
          },
          "metadata": {},
          "execution_count": 12
        }
      ]
    },
    {
      "cell_type": "markdown",
      "source": [
        "**Splitting the dataset into training and test set**"
      ],
      "metadata": {
        "id": "eE1kd39I1iDc"
      }
    },
    {
      "cell_type": "code",
      "source": [
        "from sklearn.model_selection import train_test_split\n",
        "x_train, x_test, y_train, y_test = train_test_split(corpus, y, random_state = 0)"
      ],
      "metadata": {
        "id": "z-xnGmRY1o0o"
      },
      "execution_count": null,
      "outputs": []
    },
    {
      "cell_type": "markdown",
      "source": [
        "**Creating Bag Of Words Model**"
      ],
      "metadata": {
        "id": "CSDjMv7q0_9_"
      }
    },
    {
      "cell_type": "code",
      "source": [
        "from sklearn.feature_extraction.text import CountVectorizer\n",
        "cv = CountVectorizer(stop_words='english')\n",
        "x_train_vect = cv.fit_transform(x_train)\n",
        "x_test_vect = cv.transform(x_test)"
      ],
      "metadata": {
        "id": "fs9_BVz31GH2"
      },
      "execution_count": null,
      "outputs": []
    },
    {
      "cell_type": "markdown",
      "source": [
        "# SVC and COUNTVECTORIZER seperately"
      ],
      "metadata": {
        "id": "9a8bFj6V2KIk"
      }
    },
    {
      "cell_type": "code",
      "source": [
        "from sklearn.svm import SVC\n",
        "model1 = SVC()\n",
        "model1.fit(x_train_vect, y_train)"
      ],
      "metadata": {
        "colab": {
          "base_uri": "https://localhost:8080/"
        },
        "id": "LV5En39f2Stv",
        "outputId": "6fcbbb5f-1044-4ee5-ec9e-ab4d6e3c4a7c"
      },
      "execution_count": null,
      "outputs": [
        {
          "output_type": "execute_result",
          "data": {
            "text/plain": [
              "SVC()"
            ]
          },
          "metadata": {},
          "execution_count": 15
        }
      ]
    },
    {
      "cell_type": "code",
      "source": [
        "y_pred1 = model1.predict(x_test_vect)"
      ],
      "metadata": {
        "id": "dIvMtGnL2hnn"
      },
      "execution_count": null,
      "outputs": []
    },
    {
      "cell_type": "code",
      "source": [
        "from sklearn.metrics import accuracy_score\n",
        "accuracy_score(y_test, y_pred1)"
      ],
      "metadata": {
        "colab": {
          "base_uri": "https://localhost:8080/"
        },
        "id": "62w41_o426bk",
        "outputId": "6641d35d-d0d7-46f6-8518-2790f5ca301d"
      },
      "execution_count": null,
      "outputs": [
        {
          "output_type": "execute_result",
          "data": {
            "text/plain": [
              "0.748"
            ]
          },
          "metadata": {},
          "execution_count": 17
        }
      ]
    },
    {
      "cell_type": "markdown",
      "source": [
        "# Using Pipeline for svc and countvectorizer"
      ],
      "metadata": {
        "id": "c-H5DXl-5Oet"
      }
    },
    {
      "cell_type": "code",
      "source": [
        "from sklearn.pipeline import make_pipeline\n",
        "model2 = make_pipeline(CountVectorizer(),SVC())\n",
        "model2.fit(x_train,y_train)"
      ],
      "metadata": {
        "colab": {
          "base_uri": "https://localhost:8080/"
        },
        "id": "VubQ5mBveQvA",
        "outputId": "ccf48af8-001d-4bb6-e169-b12bc29e488d"
      },
      "execution_count": null,
      "outputs": [
        {
          "output_type": "execute_result",
          "data": {
            "text/plain": [
              "Pipeline(steps=[('countvectorizer', CountVectorizer()), ('svc', SVC())])"
            ]
          },
          "metadata": {},
          "execution_count": 18
        }
      ]
    },
    {
      "cell_type": "code",
      "source": [
        "y_pred2 = model2.predict(x_test)"
      ],
      "metadata": {
        "id": "dw0nUms4fuBu"
      },
      "execution_count": null,
      "outputs": []
    },
    {
      "cell_type": "code",
      "source": [
        "x_test"
      ],
      "metadata": {
        "colab": {
          "base_uri": "https://localhost:8080/"
        },
        "id": "IcJ2b5N9V3Uv",
        "outputId": "bbc36da1-db98-4dfb-b5bb-bba4b9366eb2"
      },
      "execution_count": null,
      "outputs": [
        {
          "output_type": "execute_result",
          "data": {
            "text/plain": [
              "['present food aw',\n",
              " 'worst food servic',\n",
              " 'never dine place',\n",
              " 'guess mayb went night disgrac',\n",
              " 'sushi lover avoid place mean',\n",
              " 'ambianc much better',\n",
              " 'hole wall great mexican street taco friendli staff',\n",
              " 'food bad enough enjoy deal world worst annoy drunk peopl',\n",
              " 'never ever go back',\n",
              " 'atmospher fun',\n",
              " 'pancak also realli good pretti larg',\n",
              " 'tapa dish delici',\n",
              " 'chain fan beat place easili',\n",
              " 'everyon attent provid excel custom servic',\n",
              " 'staff also friendli effici',\n",
              " 'love friendli server great food wonder imagin menu',\n",
              " 'disappoint dinner went elsewher dessert',\n",
              " 'perhap caught night judg review not inspir go back',\n",
              " 'disgust pretti sure human hair',\n",
              " 'sweet potato fri good season well',\n",
              " 'like final blow',\n",
              " 'place jewel la vega exactli hope find nearli ten year live',\n",
              " 'fantast food',\n",
              " 'order toast english muffin came untoast',\n",
              " 'order albondiga soup warm tast like tomato soup frozen meatbal',\n",
              " 'staff super nice quick even crazi crowd downtown juri lawyer court staff',\n",
              " 'thing like prime rib dessert section',\n",
              " 'love mussel cook wine reduct duck tender potato dish delici',\n",
              " 'food good servic good price good',\n",
              " 'crust not good',\n",
              " 'cr pe delic thin moist',\n",
              " 'said mouth belli still quit pleas',\n",
              " 'absolut must visit',\n",
              " 'receiv pita huge lot meat thumb',\n",
              " 'servic fantast',\n",
              " 'friend pasta also bad bare touch',\n",
              " 'real disappoint waiter',\n",
              " 'wife lobster bisqu soup lukewarm',\n",
              " 'brought fresh batch fri think yay someth warm',\n",
              " 'thu far visit twice food absolut delici time',\n",
              " 'wonder experi made place must stop whenev town',\n",
              " 'appetit instantli gone',\n",
              " 'promptli greet seat',\n",
              " 'needless say never back',\n",
              " 'noth privileg work eat',\n",
              " 'bland flavorless good way describ bare tepid meat',\n",
              " 'place honestli blown',\n",
              " 'waiter help friendli rare check us',\n",
              " 'point friend basic figur place joke mind make publicli loudli known',\n",
              " 'hate thing much cheap qualiti black oliv',\n",
              " 'truli unbeliev good glad went back',\n",
              " 'get incred fresh fish prepar care',\n",
              " 'restaur atmospher exquisit',\n",
              " 'servic quick friendli',\n",
              " 'hot dish not hot cold dish close room temp watch staff prepar food bare hand glove everyth deep fri oil',\n",
              " 'look authent thai food go els',\n",
              " 'beat',\n",
              " 'veggitarian platter world',\n",
              " 'lack flavor seem undercook dri',\n",
              " 'bread made hous',\n",
              " 'consid theft',\n",
              " 'mayb cold would somewhat edibl',\n",
              " 'husband ate lunch disappoint food servic',\n",
              " 'warm beer help',\n",
              " 'assur disappoint',\n",
              " 'live music friday total blow',\n",
              " 'seafood fresh gener portion',\n",
              " 'place two thumb way',\n",
              " 'greek dress creami flavor',\n",
              " 'swung give tri deepli disappoint',\n",
              " 'love decor chines calligraphi wall paper',\n",
              " 'food excel servic good',\n",
              " 'restaur clean famili restaur feel',\n",
              " 'much better ayc sushi place went vega',\n",
              " 'bad lost heart finish',\n",
              " 'servic give star',\n",
              " 'def come back bowl next time',\n",
              " 'chip salsa realli good salsa fresh',\n",
              " 'got sit fairli fast end wait minut place order anoth minut food arriv',\n",
              " 'patio seat comfort',\n",
              " 'bar vega not ever recal charg tap water',\n",
              " 'food good enjoy everi mouth enjoy relax venu coupl small famili group etc',\n",
              " 'come back everi time vega',\n",
              " 'food averag',\n",
              " 'new fav vega buffet spot',\n",
              " 'sergeant pepper beef sandwich auju sauc excel sandwich well',\n",
              " 'descript said yum yum sauc anoth said eel sauc yet anoth said spici mayo well none roll sauc',\n",
              " 'rather eat airlin food serious',\n",
              " 'first crawfish experi delici',\n",
              " 'weird vibe owner',\n",
              " 'far sushi connoisseur definit tell differ good food bad food certainli bad food',\n",
              " 'daili special alway hit group',\n",
              " 'ri style calamari joke',\n",
              " 'mac salad pretti bland not get',\n",
              " 'wait hour seat not greatest mood',\n",
              " 'small famili restaur fine dine establish',\n",
              " 'hour serious',\n",
              " 'go back next trip',\n",
              " 'would come back sushi crave vega',\n",
              " 'place lot promis fail deliv',\n",
              " 'nacho must',\n",
              " 'boyfriend sat bar complet delight experi',\n",
              " 'great food servic huge portion give militari discount',\n",
              " 'buffet bellagio far anticip',\n",
              " 'back good bbq lighter fare reason price tell public back old way',\n",
              " 'tri go lunch madhous',\n",
              " 'staff attent',\n",
              " 'great atmospher friendli fast servic',\n",
              " 'husband said rude not even apolog bad food anyth',\n",
              " 'extrem tasti',\n",
              " 'food arriv quickli',\n",
              " 'steak recommend',\n",
              " 'think run back carli anytim soon food',\n",
              " 'first time might last',\n",
              " 'tabl servic pretti fast',\n",
              " 'recommend unless car break front starv',\n",
              " 'spici enough perfect actual',\n",
              " 'servic outshin definit recommend halibut',\n",
              " 'awesom',\n",
              " 'reason price also',\n",
              " 'pretti satifi experi',\n",
              " 'order not correct',\n",
              " 'servic fine waitress friendli',\n",
              " 'bit sweet not realli spici enough lack flavor',\n",
              " 'least think refil water struggl wave minut',\n",
              " 'could not believ dirti oyster',\n",
              " 'dine space tini elegantli decor comfort',\n",
              " 'place not qualiti sushi not qualiti restaur',\n",
              " 'build seem pretti neat bathroom pretti trippi eat',\n",
              " 'made drive way north scottsdal not one bit disappoint',\n",
              " 'tragedi struck',\n",
              " 'four star food guy blue shirt great vibe still let us eat',\n",
              " 'got home see driest damn wing ever',\n",
              " 'read pleas go',\n",
              " 'sat right time server get go fantast',\n",
              " 'pretti awesom place',\n",
              " 'food good',\n",
              " 'fri great',\n",
              " 'bartend also nice',\n",
              " 'better bagel groceri store',\n",
              " 'good thing waiter help kept bloddi mari come',\n",
              " 'cow tongu cheek taco amaz',\n",
              " 'oh thing beauti restaur',\n",
              " 'base sub par servic receiv effort show gratitud busi go back',\n",
              " 'think not',\n",
              " 'mistak',\n",
              " 'never ever go back told mani peopl happen',\n",
              " 'summar food incred nay transcend noth bring joy quit like memori pneumat condiment dispens',\n",
              " 'portion huge',\n",
              " 'overal like place lot',\n",
              " 'cant go wrong food',\n",
              " 'also combo like burger fri beer decent deal',\n",
              " 'great place eat remind littl mom pop shop san francisco bay area',\n",
              " 'great place eat',\n",
              " 'happen next pretti put',\n",
              " 'refri bean came meal dri crusti food bland',\n",
              " 'nargil think great',\n",
              " 'pretti cool would say',\n",
              " 'place pretti good nice littl vibe restaur',\n",
              " 'select food not best',\n",
              " 'boy sucker dri',\n",
              " 'shrimp unwrap live mile brushfir liter ice cold',\n",
              " 'steak amaz rge fillet relleno best seafood plate ever',\n",
              " 'alway pleasur deal',\n",
              " 'also took forev bring us check ask',\n",
              " 'rude inconsider manag',\n",
              " 'downsid servic',\n",
              " 'slow seat even reserv',\n",
              " 'terribl',\n",
              " 'first time go think quickli becom regular',\n",
              " 'chipolt ranch dip saus tasteless seem thin water heat',\n",
              " 'good go review place twice herea tribut place tribut event held last night',\n",
              " 'bathroom clean place well decor',\n",
              " 'food qualiti horribl',\n",
              " 'wors humili worker right front bunch horribl name call',\n",
              " 'wonton thin not thick chewi almost melt mouth',\n",
              " 'horribl wast time money',\n",
              " 'great food',\n",
              " 'servic extrem slow',\n",
              " 'nice blanket moz top feel like done cover subpar food',\n",
              " 'block amaz',\n",
              " 'wast enough life pour salt wound draw time took bring check',\n",
              " 'due fact took minut acknowledg anoth minut get food kept forget thing',\n",
              " 'bu boy hand rude',\n",
              " 'would avoid place stay mirag',\n",
              " 'everi time eat see care teamwork profession degre',\n",
              " 'tonight elk filet special suck',\n",
              " 'best tater tot southwest',\n",
              " 'bother slow servic',\n",
              " 'servic friendli invit',\n",
              " 'excel',\n",
              " 'one tabl thought food averag worth wait',\n",
              " 'huge awkward lb piec cow th gristl fat',\n",
              " 'get angri want damn pho',\n",
              " 'hot sour egg flower soup absolut star',\n",
              " 'servic slow not attent',\n",
              " 'food great alway compliment chef',\n",
              " 'waitress good though',\n",
              " 'not much flavor poorli construct',\n",
              " 'fianc came middl day greet seat right away',\n",
              " 'decor nice piano music soundtrack pleasant',\n",
              " 'also tast mom multi grain pumpkin pancak pecan butter amaz fluffi delici',\n",
              " 'fantast servic pleas atmospher',\n",
              " 'kept look time soon becom minut yet still food',\n",
              " 'season fruit fresh white peach pure',\n",
              " 'chicken pho tast bland',\n",
              " 'love place',\n",
              " 'drive get',\n",
              " 'anyway not think go back',\n",
              " 'equal aw',\n",
              " 'nice spici tender',\n",
              " 'chicken got definit reheat ok wedg cold soggi',\n",
              " 'poor servic waiter made feel like stupid everi time came tabl',\n",
              " 'stay vega must get breakfast least',\n",
              " 'want first say server great perfect servic',\n",
              " 'ladi tabl next us found live green caterpillar salad',\n",
              " 'place good',\n",
              " 'highlight great qualiti nigiri',\n",
              " 'shrimp tender moist',\n",
              " 'great food great servic clean friendli set',\n",
              " 'high hope place sinc burger cook charcoal grill unfortun tast fell flat way flat',\n",
              " 'omg felt like never eaten thai food dish',\n",
              " 'del taco pretti nasti avoid possibl',\n",
              " 'servic not par either',\n",
              " 'definit soon',\n",
              " 'know pull pork could soooo delici',\n",
              " 'ask satisfi meal',\n",
              " 'greasi unhealthi meal',\n",
              " 'place not worth time let alon vega',\n",
              " 'complaint',\n",
              " 'sure order dessert even need pack go tiramisu cannoli die',\n",
              " 'summer dine charm outdoor patio delight',\n",
              " 'grill chicken tender yellow saffron season',\n",
              " 'brother law work mall ate day guess sick night',\n",
              " 'cocktail handmad delici',\n",
              " 'much good food vega feel cheat wast eat opportun go rice compani',\n",
              " 'gave star give star',\n",
              " 'salad wing ice cream dessert left feel quit satisfi',\n",
              " 'got enjoy seafood salad fabul vinegrett',\n",
              " 'also decid not send back waitress look like verg heart attack',\n",
              " 'excel new restaur experienc frenchman',\n",
              " 'delici absolut back',\n",
              " 'heard good thing place exceed everi hope could dream',\n",
              " 'server great job handl larg rowdi tabl',\n",
              " 'spend money time place els',\n",
              " 'im az time new spot',\n",
              " 'sadli gordon ramsey steak place shall sharpli avoid next trip vega',\n",
              " 'not tasti textur nasti',\n",
              " 'group claim would handl us beauti',\n",
              " 'went lunch servic slow']"
            ]
          },
          "metadata": {},
          "execution_count": 20
        }
      ]
    },
    {
      "cell_type": "code",
      "source": [
        "y_pred2"
      ],
      "metadata": {
        "colab": {
          "base_uri": "https://localhost:8080/"
        },
        "id": "IrPsiSR5f7fk",
        "outputId": "baac3492-e93d-4624-eed7-b92f40a84e69"
      },
      "execution_count": null,
      "outputs": [
        {
          "output_type": "execute_result",
          "data": {
            "text/plain": [
              "array([0, 0, 0, 0, 0, 0, 1, 0, 0, 1, 1, 1, 1, 1, 1, 1, 0, 0, 0, 1, 0, 0,\n",
              "       1, 0, 0, 1, 0, 1, 1, 0, 0, 0, 0, 0, 1, 0, 0, 0, 0, 1, 1, 0, 0, 0,\n",
              "       0, 0, 1, 1, 1, 0, 1, 0, 1, 1, 0, 0, 0, 0, 0, 1, 0, 0, 0, 1, 0, 0,\n",
              "       0, 0, 0, 0, 1, 1, 1, 0, 0, 0, 0, 1, 0, 1, 0, 1, 1, 0, 1, 1, 0, 0,\n",
              "       1, 0, 0, 1, 0, 0, 0, 0, 1, 0, 0, 0, 0, 0, 1, 1, 0, 0, 1, 1, 0, 0,\n",
              "       0, 1, 0, 1, 0, 0, 1, 1, 1, 1, 0, 0, 1, 0, 0, 0, 0, 0, 0, 0, 0, 1,\n",
              "       0, 0, 1, 1, 1, 1, 1, 0, 1, 1, 1, 0, 0, 0, 0, 0, 0, 0, 0, 0, 1, 1,\n",
              "       0, 0, 1, 0, 1, 0, 0, 0, 1, 1, 1, 0, 0, 0, 0, 0, 0, 1, 1, 0, 0, 0,\n",
              "       0, 1, 0, 1, 1, 0, 0, 0, 0, 0, 0, 1, 0, 1, 1, 0, 0, 0, 0, 0, 1, 1,\n",
              "       0, 0, 1, 1, 1, 0, 1, 0, 1, 0, 0, 0, 1, 0, 0, 0, 1, 0, 1, 1, 0, 1,\n",
              "       0, 0, 0, 0, 1, 1, 0, 0, 0, 0, 0, 1, 0, 0, 1, 0, 0, 0, 0, 0, 1, 1,\n",
              "       1, 1, 0, 0, 1, 0, 0, 0])"
            ]
          },
          "metadata": {},
          "execution_count": 21
        }
      ]
    },
    {
      "cell_type": "code",
      "source": [
        "accuracy_score(y_pred2,y_test)"
      ],
      "metadata": {
        "colab": {
          "base_uri": "https://localhost:8080/"
        },
        "id": "rtBSz6Vlf99y",
        "outputId": "da2f1af8-2b9f-4b53-ff42-6f32224a4077"
      },
      "execution_count": null,
      "outputs": [
        {
          "output_type": "execute_result",
          "data": {
            "text/plain": [
              "0.756"
            ]
          },
          "metadata": {},
          "execution_count": 22
        }
      ]
    },
    {
      "cell_type": "markdown",
      "source": [
        "# Naive Bayes and CountVectorizer"
      ],
      "metadata": {
        "id": "DkosjYatgpdD"
      }
    },
    {
      "cell_type": "code",
      "source": [
        "from sklearn.naive_bayes import MultinomialNB\n",
        "model3 = MultinomialNB()"
      ],
      "metadata": {
        "id": "62tF6PZHgJOu"
      },
      "execution_count": null,
      "outputs": []
    },
    {
      "cell_type": "code",
      "source": [
        "model3.fit(x_train_vect,y_train)"
      ],
      "metadata": {
        "colab": {
          "base_uri": "https://localhost:8080/"
        },
        "id": "iJGnHs-gg-B3",
        "outputId": "1bdd25d1-2299-430c-db41-bb2acfde9f66"
      },
      "execution_count": null,
      "outputs": [
        {
          "output_type": "execute_result",
          "data": {
            "text/plain": [
              "MultinomialNB()"
            ]
          },
          "metadata": {},
          "execution_count": 24
        }
      ]
    },
    {
      "cell_type": "code",
      "source": [
        "y_pred3 = model3.predict(x_test_vect)"
      ],
      "metadata": {
        "id": "7sFJMYfshG1X"
      },
      "execution_count": null,
      "outputs": []
    },
    {
      "cell_type": "code",
      "source": [
        "y_pred3"
      ],
      "metadata": {
        "colab": {
          "base_uri": "https://localhost:8080/"
        },
        "id": "wutMTz3UhObl",
        "outputId": "4000bf8c-87d1-49a6-e3f5-2c0b2e046b89"
      },
      "execution_count": null,
      "outputs": [
        {
          "output_type": "execute_result",
          "data": {
            "text/plain": [
              "array([0, 0, 0, 0, 0, 1, 1, 0, 0, 1, 1, 1, 1, 1, 1, 1, 0, 0, 0, 1, 0, 0,\n",
              "       1, 1, 1, 1, 0, 1, 1, 1, 1, 1, 1, 1, 1, 0, 0, 0, 0, 1, 1, 0, 0, 0,\n",
              "       0, 0, 1, 1, 0, 0, 1, 1, 1, 1, 1, 0, 0, 1, 0, 1, 0, 0, 0, 1, 0, 0,\n",
              "       0, 0, 1, 0, 1, 1, 1, 1, 0, 0, 0, 0, 0, 1, 1, 1, 1, 0, 1, 1, 1, 0,\n",
              "       1, 1, 0, 1, 0, 0, 0, 0, 0, 1, 1, 0, 0, 1, 1, 1, 0, 1, 1, 1, 0, 0,\n",
              "       0, 1, 0, 0, 1, 0, 1, 1, 1, 1, 1, 0, 1, 1, 0, 0, 1, 1, 0, 0, 0, 1,\n",
              "       0, 0, 1, 1, 1, 1, 1, 0, 0, 1, 1, 0, 0, 0, 0, 0, 1, 0, 1, 0, 1, 1,\n",
              "       1, 0, 1, 1, 1, 1, 0, 0, 1, 1, 0, 0, 1, 0, 0, 0, 0, 1, 1, 0, 0, 1,\n",
              "       0, 1, 0, 1, 1, 0, 0, 1, 0, 1, 0, 1, 0, 1, 1, 0, 1, 1, 0, 0, 1, 1,\n",
              "       0, 1, 1, 1, 1, 0, 1, 0, 1, 1, 0, 1, 1, 0, 0, 1, 1, 0, 1, 1, 1, 1,\n",
              "       0, 0, 0, 0, 0, 1, 0, 0, 1, 0, 0, 1, 1, 1, 1, 1, 0, 1, 0, 0, 0, 1,\n",
              "       1, 1, 0, 0, 1, 1, 1, 0])"
            ]
          },
          "metadata": {},
          "execution_count": 26
        }
      ]
    },
    {
      "cell_type": "code",
      "source": [
        "accuracy_score(y_pred3,y_test)"
      ],
      "metadata": {
        "colab": {
          "base_uri": "https://localhost:8080/"
        },
        "id": "QjKQ18R1hPk9",
        "outputId": "7b88a9f6-ec5c-484f-bf74-e7e0dffe841a"
      },
      "execution_count": null,
      "outputs": [
        {
          "output_type": "execute_result",
          "data": {
            "text/plain": [
              "0.764"
            ]
          },
          "metadata": {},
          "execution_count": 27
        }
      ]
    },
    {
      "cell_type": "markdown",
      "source": [
        "# Using Pipeline for Naive Bayes and CountVectorizer\n",
        "\n"
      ],
      "metadata": {
        "id": "eSI5wuO0haVv"
      }
    },
    {
      "cell_type": "code",
      "source": [
        "model4 = make_pipeline(CountVectorizer(),MultinomialNB())"
      ],
      "metadata": {
        "id": "zD8NXsYghYWS"
      },
      "execution_count": null,
      "outputs": []
    },
    {
      "cell_type": "code",
      "source": [
        "model4.fit(x_train,y_train)"
      ],
      "metadata": {
        "colab": {
          "base_uri": "https://localhost:8080/"
        },
        "id": "IwB3wck3htd1",
        "outputId": "438c4911-478f-49cc-a52a-a5dc21e1037e"
      },
      "execution_count": null,
      "outputs": [
        {
          "output_type": "execute_result",
          "data": {
            "text/plain": [
              "Pipeline(steps=[('countvectorizer', CountVectorizer()),\n",
              "                ('multinomialnb', MultinomialNB())])"
            ]
          },
          "metadata": {},
          "execution_count": 29
        }
      ]
    },
    {
      "cell_type": "code",
      "source": [
        "y_pred4 = model4.predict(x_test)"
      ],
      "metadata": {
        "id": "dGP809BKhzU_"
      },
      "execution_count": null,
      "outputs": []
    },
    {
      "cell_type": "code",
      "source": [
        "y_pred4"
      ],
      "metadata": {
        "colab": {
          "base_uri": "https://localhost:8080/"
        },
        "id": "viEVcPxNh4nl",
        "outputId": "a174468b-d3ed-41ce-dce1-0be18149e5cf"
      },
      "execution_count": null,
      "outputs": [
        {
          "output_type": "execute_result",
          "data": {
            "text/plain": [
              "array([1, 0, 0, 0, 0, 0, 1, 0, 0, 1, 1, 1, 1, 1, 1, 1, 0, 0, 0, 1, 0, 0,\n",
              "       1, 1, 1, 1, 0, 1, 1, 0, 1, 1, 0, 1, 1, 0, 0, 0, 0, 1, 1, 1, 1, 0,\n",
              "       0, 0, 1, 1, 0, 0, 1, 1, 1, 1, 1, 0, 1, 1, 0, 1, 1, 0, 1, 1, 0, 0,\n",
              "       1, 0, 1, 0, 1, 1, 1, 0, 0, 0, 0, 1, 0, 1, 0, 1, 1, 0, 1, 1, 1, 0,\n",
              "       1, 1, 0, 1, 0, 0, 0, 0, 0, 0, 0, 0, 0, 1, 1, 1, 0, 1, 1, 1, 0, 0,\n",
              "       0, 1, 0, 1, 1, 0, 1, 1, 1, 1, 1, 0, 1, 1, 0, 0, 1, 0, 0, 0, 0, 1,\n",
              "       0, 0, 1, 1, 1, 1, 1, 1, 0, 1, 1, 0, 0, 0, 0, 0, 1, 0, 1, 1, 1, 1,\n",
              "       1, 0, 1, 0, 1, 1, 0, 0, 1, 1, 0, 0, 1, 0, 0, 0, 0, 1, 1, 0, 0, 0,\n",
              "       0, 1, 0, 0, 1, 0, 0, 1, 0, 1, 0, 1, 0, 1, 1, 0, 1, 0, 0, 0, 1, 1,\n",
              "       0, 1, 1, 1, 1, 0, 1, 0, 1, 0, 0, 1, 1, 0, 0, 0, 1, 0, 1, 1, 1, 1,\n",
              "       0, 0, 0, 0, 0, 1, 0, 0, 0, 0, 0, 1, 1, 1, 1, 0, 0, 1, 0, 0, 1, 1,\n",
              "       1, 1, 0, 1, 1, 0, 0, 0])"
            ]
          },
          "metadata": {},
          "execution_count": 31
        }
      ]
    },
    {
      "cell_type": "code",
      "source": [
        "accuracy_score(y_pred4,y_test)"
      ],
      "metadata": {
        "colab": {
          "base_uri": "https://localhost:8080/"
        },
        "id": "u7lrzjzbh5lo",
        "outputId": "daad3a9d-a974-4c11-ce3a-53c5ef11aabf"
      },
      "execution_count": null,
      "outputs": [
        {
          "output_type": "execute_result",
          "data": {
            "text/plain": [
              "0.768"
            ]
          },
          "metadata": {},
          "execution_count": 32
        }
      ]
    },
    {
      "cell_type": "code",
      "source": [
        "#Pipe line with naive bayes and count vectorizer is most accurate so let us predict with that that model"
      ],
      "metadata": {
        "id": "kuz7o4uzh9Nd"
      },
      "execution_count": null,
      "outputs": []
    },
    {
      "cell_type": "code",
      "source": [
        "import joblib"
      ],
      "metadata": {
        "id": "EC0pKYu6Uj3R"
      },
      "execution_count": null,
      "outputs": []
    },
    {
      "cell_type": "code",
      "source": [
        "joblib.dump(model4,'Sentimental-analysis-model')"
      ],
      "metadata": {
        "colab": {
          "base_uri": "https://localhost:8080/"
        },
        "id": "JpUu2wazUoJe",
        "outputId": "ff78e853-21fa-43bd-cdfa-af214351f3ee"
      },
      "execution_count": null,
      "outputs": [
        {
          "output_type": "execute_result",
          "data": {
            "text/plain": [
              "['Sentimental-analysis-model']"
            ]
          },
          "metadata": {},
          "execution_count": 34
        }
      ]
    },
    {
      "cell_type": "code",
      "source": [
        "model_load = joblib.load('Sentimental-analysis-model')"
      ],
      "metadata": {
        "id": "weoFmK2LU6W1"
      },
      "execution_count": null,
      "outputs": []
    },
    {
      "cell_type": "code",
      "source": [
        "model_load.predict(['Worst'])"
      ],
      "metadata": {
        "colab": {
          "base_uri": "https://localhost:8080/"
        },
        "id": "a8-4JqnpVEet",
        "outputId": "e10b5483-093a-4e06-b562-4926c2c0055b"
      },
      "execution_count": null,
      "outputs": [
        {
          "output_type": "execute_result",
          "data": {
            "text/plain": [
              "array([0])"
            ]
          },
          "metadata": {},
          "execution_count": 40
        }
      ]
    },
    {
      "cell_type": "code",
      "source": [
        ""
      ],
      "metadata": {
        "id": "nJC1hTFXVZgL"
      },
      "execution_count": null,
      "outputs": []
    }
  ]
}